{
  "nbformat": 4,
  "nbformat_minor": 0,
  "metadata": {
    "colab": {
      "provenance": [],
      "authorship_tag": "ABX9TyOAwQK4GYNebLkN4jgd65wH",
      "include_colab_link": true
    },
    "kernelspec": {
      "name": "python3",
      "display_name": "Python 3"
    },
    "language_info": {
      "name": "python"
    }
  },
  "cells": [
    {
      "cell_type": "markdown",
      "metadata": {
        "id": "view-in-github",
        "colab_type": "text"
      },
      "source": [
        "<a href=\"https://colab.research.google.com/github/reymage/2021-pydantic/blob/main/indrive_scraping.ipynb\" target=\"_parent\"><img src=\"https://colab.research.google.com/assets/colab-badge.svg\" alt=\"Open In Colab\"/></a>"
      ]
    },
    {
      "cell_type": "code",
      "source": [
        "pip install google-play-scraper"
      ],
      "metadata": {
        "colab": {
          "base_uri": "https://localhost:8080/",
          "height": 0
        },
        "id": "LvYRKdpJHjPb",
        "outputId": "09d19fec-0d02-42dc-d581-d74fcb81efde"
      },
      "execution_count": 6,
      "outputs": [
        {
          "output_type": "stream",
          "name": "stdout",
          "text": [
            "Requirement already satisfied: google-play-scraper in /usr/local/lib/python3.10/dist-packages (1.2.7)\n"
          ]
        }
      ]
    },
    {
      "cell_type": "code",
      "source": [
        "from google_play_scraper import app, Sort, reviews_all, reviews\n",
        "import pandas as pd\n",
        "import numpy as np\n",
        "# from app_store_scraper import AppStore\n",
        "# import json, os, uuid"
      ],
      "metadata": {
        "id": "3fHUHKrQmz3M"
      },
      "execution_count": 7,
      "outputs": []
    },
    {
      "cell_type": "code",
      "source": [
        "# Lt's scrape the data\n",
        "play_id = \"sinet.startup.inDriver\"\n",
        "# app_id = 780125801\n",
        "\n",
        "# Define the app ID for inDrive\n",
        "app_id = 'com.indriver.client'  # Replace with the actual app ID if different\n",
        "\n",
        "# Set up variables for pagination and unique reviews\n",
        "all_reviews = []\n",
        "review_ids = set()\n",
        "continuation_token = None\n",
        "max_reviews_per_request = 200  # Number of reviews to fetch per request\n",
        "total_reviews_to_fetch = 50000   # Total number of reviews to fetch\n",
        "fetched_reviews_count = 0\n",
        "\n",
        "while fetched_reviews_count < total_reviews_to_fetch:\n",
        "    # Calculate how many reviews to fetch in this iteration\n",
        "    remaining_reviews = total_reviews_to_fetch - fetched_reviews_count\n",
        "    current_fetch_count = min(max_reviews_per_request, remaining_reviews)\n",
        "\n",
        "    # Fetch reviews with pagination\n",
        "    fetched_reviews, continuation_token = reviews(\n",
        "        play_id,\n",
        "        lang='en',  # Language of the reviews\n",
        "        country='NG',  # Country code for Nigeria\n",
        "        sort=Sort.NEWEST,  # Sort by newest reviews\n",
        "        count=current_fetch_count,  # Number of reviews to fetch\n",
        "        continuation_token=continuation_token  # Pagination token\n",
        "    )\n",
        "\n",
        "    for review in fetched_reviews:\n",
        "        if review['reviewId'] not in review_ids:\n",
        "            review_ids.add(review['reviewId'])  # Store unique review ID\n",
        "            all_reviews.append(review)  # Add unique review to the list\n",
        "            fetched_reviews_count += 1    # Increment count of fetched reviews\n",
        "\n",
        "    # Break if no more reviews are available (no continuation token)\n",
        "    if not continuation_token or fetched_reviews_count >= total_reviews_to_fetch:\n",
        "        break\n",
        "    if continuation_token and not fetched_reviews:  # I inserted this if statement myself.\n",
        "        break  # Exit loop if no more reviews\n",
        "\n",
        "# Convert the list of unique reviews to a DataFrame for easier manipulation\n",
        "df_reviews = pd.DataFrame(all_reviews)\n",
        "\n",
        "# Display the first few rows of the DataFrame\n",
        "print(df_reviews.head())\n",
        "\n",
        "# Optionally, save to a CSV file\n",
        "df_reviews.to_csv('indrive_nigeria_reviews.csv', index=False)"
      ],
      "metadata": {
        "colab": {
          "base_uri": "https://localhost:8080/"
        },
        "id": "WpqvqJ-bnnaX",
        "outputId": "8927a894-5c03-470d-f014-752944a8dc12"
      },
      "execution_count": 19,
      "outputs": [
        {
          "output_type": "stream",
          "name": "stdout",
          "text": [
            "                               reviewId                      userName  \\\n",
            "0  625a5a3e-8846-4320-9272-c197604c3623                        Ragu S   \n",
            "1  243d2cf0-3bc5-489c-b8bf-5058241349c6                  Ezzataly Aly   \n",
            "2  59b18252-5f9c-4105-b455-482442e58a4f  Roman Shcherbakov (Flameash)   \n",
            "3  11401991-f35d-4f4f-a86e-20e4fed67d55                Muhammed Kabir   \n",
            "4  1d072b4b-5717-4235-87d1-9ee91b907a32              Alejandro Loredo   \n",
            "\n",
            "                                           userImage  \\\n",
            "0  https://play-lh.googleusercontent.com/a/ACg8oc...   \n",
            "1  https://play-lh.googleusercontent.com/a/ACg8oc...   \n",
            "2  https://play-lh.googleusercontent.com/a-/ALV-U...   \n",
            "3  https://play-lh.googleusercontent.com/a/ACg8oc...   \n",
            "4  https://play-lh.googleusercontent.com/a-/ALV-U...   \n",
            "\n",
            "                                             content  score  thumbsUpCount  \\\n",
            "0  பயணி ஒருகுறிப்பிட்ட வாகனத்தை தேர்ந்தெடுக்கிற இ...      1              0   \n",
            "1                                          Very well      5              0   \n",
            "2  Doesn't work. Can't register, can't get online...      1              0   \n",
            "3  Very wicked set of people managing the app. St...      1              0   \n",
            "4                                           Good App      5              0   \n",
            "\n",
            "  reviewCreatedVersion                  at replyContent repliedAt appVersion  \n",
            "0                 None 2024-10-19 00:30:17         None       NaT       None  \n",
            "1               5.98.1 2024-10-18 23:29:45         None       NaT     5.98.1  \n",
            "2               5.99.0 2024-10-18 23:24:31         None       NaT     5.99.0  \n",
            "3               5.91.0 2024-10-18 23:05:38         None       NaT     5.91.0  \n",
            "4               5.98.1 2024-10-18 21:59:42         None       NaT     5.98.1  \n"
          ]
        }
      ]
    },
    {
      "cell_type": "code",
      "source": [
        "# find shape of data\n",
        "df_reviews.shape"
      ],
      "metadata": {
        "colab": {
          "base_uri": "https://localhost:8080/"
        },
        "id": "VlZcI8NXVTWB",
        "outputId": "38b9029c-2aba-4a58-88ab-55359574b6d4"
      },
      "execution_count": 20,
      "outputs": [
        {
          "output_type": "execute_result",
          "data": {
            "text/plain": [
              "(50000, 11)"
            ]
          },
          "metadata": {},
          "execution_count": 20
        }
      ]
    }
  ]
}